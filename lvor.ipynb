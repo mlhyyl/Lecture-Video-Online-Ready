{
  "nbformat": 4,
  "nbformat_minor": 0,
  "metadata": {
    "colab": {
      "name": "lvor.ipynb",
      "provenance": [],
      "collapsed_sections": []
    },
    "kernelspec": {
      "name": "python3",
      "display_name": "Python 3"
    }
  },
  "cells": [
    {
      "cell_type": "code",
      "metadata": {
        "id": "pLFjTGe005v3"
      },
      "source": [
        "from google.colab import drive\n",
        "drive.mount('/content/gdrive')"
      ],
      "execution_count": null,
      "outputs": []
    },
    {
      "cell_type": "code",
      "metadata": {
        "id": "0qevIj6F07Lh",
        "cellView": "form"
      },
      "source": [
        "#@title <font size=\"5\">← ឵឵<i>Install Ffmpeg</font> { vertical-output: true }\n",
        "from IPython.display import clear_output\n",
        "import os, urllib.request\n",
        "HOME = os.path.expanduser(\"~\")\n",
        "pathDoneCMD = f'{HOME}/doneCMD.sh'\n",
        "if not os.path.exists(f\"{HOME}/.ipython/ttmg.py\"):\n",
        "    hCode = \"https://raw.githubusercontent.com/yunooooo/gcct/master/res/ttmg.py\"\n",
        "    urllib.request.urlretrieve(hCode, f\"{HOME}/.ipython/ttmg.py\")\n",
        "\n",
        "from ttmg import (\n",
        "    loadingAn,\n",
        "    textAn,\n",
        ")\n",
        "\n",
        "loadingAn(name=\"lds\")\n",
        "textAn(\"Installing Dependencies...\", ty='twg')\n",
        "os.system('pip install git+git://github.com/AWConant/jikanpy.git')\n",
        "os.system('add-apt-repository -y ppa:jonathonf/ffmpeg-4')\n",
        "os.system('apt-get update')\n",
        "os.system('apt install mediainfo')\n",
        "os.system('apt-get install ffmpeg')\n",
        "os.system('pip install ffpb')\n",
        "clear_output()\n",
        "print('Installation finished.')"
      ],
      "execution_count": null,
      "outputs": []
    },
    {
      "cell_type": "code",
      "metadata": {
        "id": "witcUFNZ1Cpc"
      },
      "source": [
        "mappedFolder = \"gdrive/My Drive/GitHub/Lecture Video Online Ready/\""
      ],
      "execution_count": null,
      "outputs": []
    },
    {
      "cell_type": "code",
      "metadata": {
        "id": "m8fuBguW1RVe"
      },
      "source": [
        "cd $mappedFolder"
      ],
      "execution_count": null,
      "outputs": []
    },
    {
      "cell_type": "markdown",
      "metadata": {
        "id": "1GCDv3D39Cpy"
      },
      "source": [
        "#Define function"
      ]
    },
    {
      "cell_type": "code",
      "metadata": {
        "id": "8NcgPq8B1Rvi"
      },
      "source": [
        "from datetime import datetime\n",
        "FMT = '%H:%M:%S'\n",
        "\n",
        "def makeReady(disclaimerPath, disclaimerDuration, logoPath, videoPath, trimBefore, trimAfter):\n",
        "  vWidth      = !ffprobe $videoPath -v error -show_entries stream=width\n",
        "  vHeight     = !ffprobe $videoPath -v error -show_entries stream=height\n",
        "  vFps        = !ffprobe $videoLecture -v error -show_entries stream=r_frame_rate\n",
        "  videoWidth  = vWidth[1].replace(\"width=\",\"\")\n",
        "  videoHeight = vHeight[1].replace(\"height=\",\"\")\n",
        "  videoRes    = videoWidth + \"x\" + videoHeight\n",
        "  vidFps      = vFps[1].replace(\"r_frame_rate=\",\"\")\n",
        "  videFps     = vidFps.split(\"/\")\n",
        "  videoFps    = int(videFps[0]) / int(videFps[1])\n",
        "  discFrames  = round(videoFps, 3) * int(disclaimerDuration)\n",
        "\n",
        "  start_time    = trimBefore\n",
        "  start_seconds = datetime.strptime(str(trimBefore), \"%H:%M:%S\") - datetime(1900, 1, 1)\n",
        "  starts = str(int(start_seconds.total_seconds()))\n",
        "\n",
        "  end_time    = trimAfter\n",
        "  end_seconds = datetime.strptime(str(trimAfter), \"%H:%M:%S\") - datetime(1900, 1, 1)\n",
        "  ends = str(int(end_seconds.total_seconds()))\n",
        "\n",
        "  tDelta = datetime.strptime(end_time, FMT) - datetime.strptime(start_time, FMT)\n",
        "  videoFadeOut = str(int(tDelta.total_seconds()) - 1) # minus fade duration\n",
        "  duration = datetime.strptime(str(tDelta), \"%H:%M:%S\")\n",
        "  a_timedelta = duration - datetime(1900, 1, 1)\n",
        "\n",
        "  os.environ['videoPath']     = videoPath\n",
        "  os.environ['videoOutput']   = \"out.\" + videoPath\n",
        "  os.environ['videoWidth']    = str(videoWidth)\n",
        "  os.environ['videoHeight']   = str(videoHeight)\n",
        "  os.environ['videoFps']      = str(round(videoFps, 3))\n",
        "  os.environ['videoRes']      = videoRes\n",
        "  os.environ['logoPath']      = logoPath\n",
        "\n",
        "  os.environ['disclaimerPath']= disclaimerPath\n",
        "  os.environ['discFrames']    = str(round(discFrames))\n",
        "  os.environ['discFadeOut']   = str(disclaimerDuration - 1)\n",
        "\n",
        "  os.environ['starts']        = str(starts)\n",
        "  os.environ['ends']          = str(ends)\n",
        "  os.environ['tDelta']        = str(int(a_timedelta.total_seconds()))\n",
        "  os.environ['videoFadeOut']  = str(videoFadeOut)\n",
        "\n",
        "  os.system('ffmpeg -i \"$videoPath\" -i $logoPath -i $disclaimerPath -f lavfi -t 1 -i anullsrc -filter_complex \"[2:v]fps=fps=$videoFps,loop=loop=$discFrames:size=$videoFps:start=0[v2];[v2]fade=t=in:st=0:d=1,fade=t=out:st=$discFadeOut:d=1[vv2];[0:v]trim=start=$starts:end=$ends,setpts=PTS-STARTPTS,scale=$videoWidth:$videoHeight[v0];[0:a]atrim=start=$starts:end=$ends,asetpts=PTS-STARTPTS[a0];[v0][1:v]overlay=0:0[vv0];[vv0]fade=t=in:st=0:d=1,fade=t=out:st=$videoFadeOut:d=1[vvv0];[a0]afade=t=in:st=0:d=1,afade=t=out:st=$videoFadeOut:d=1[aa0];[vv2][3:a][vvv0][aa0]concat=n=2:v=1:a=1[vv][aa]\" -map [vv] -map [aa] -c:a aac -vcodec libx264 -s $videoRes $videoOutput')\n"
      ],
      "execution_count": null,
      "outputs": []
    },
    {
      "cell_type": "markdown",
      "metadata": {
        "id": "JEoAC50i5HU2"
      },
      "source": [
        "#Option 1: Run as function"
      ]
    },
    {
      "cell_type": "code",
      "metadata": {
        "id": "ELoG7yEk47sY"
      },
      "source": [
        "makeReady(\"disclaimer.jpg\", 5, \"logo.png\", \"lecture.mp4\", \"00:00:15\", \"00:00:25\")"
      ],
      "execution_count": null,
      "outputs": []
    },
    {
      "cell_type": "markdown",
      "metadata": {
        "id": "MG-OR8OJ1dOV"
      },
      "source": [
        "#Option 2: Set trimming points and start render"
      ]
    },
    {
      "cell_type": "code",
      "metadata": {
        "id": "_fTVqMpc1VzA",
        "cellView": "form"
      },
      "source": [
        "from datetime import datetime\n",
        "FMT = '%H:%M:%S'\n",
        "#@title <font size=\"5\">← ឵឵<i>Trim,add logo, add fade-in/out, and disclaimer to lecture</font> { vertical-output: true }\n",
        "lecture_file_path = \"lecture.mp4\" #@param {type:\"string\"}\n",
        "output_file_name = \"final_\" + lecture_file_path\n",
        "\n",
        "vFps        = !ffprobe $inputFile -v error -show_entries stream=r_frame_rate\n",
        "vidFps      = vFps[1].replace(\"r_frame_rate=\",\"\")\n",
        "videFps     = vidFps.split(\"/\")\n",
        "videoFps    = int(videFps[0]) / int(videFps[1])\n",
        "\n",
        "disclaimer_duration = \"5\" #@param {type:\"string\"}\n",
        "discTotalFrames = int(disclaimer_duration) * videoFps\n",
        "\n",
        "start_time = \"00:00:14\" #@param {type:\"string\"}\n",
        "start_seconds = datetime.strptime(str(start_time), \"%H:%M:%S\") - datetime(1900, 1, 1)\n",
        "starts = str(int(start_seconds.total_seconds()))\n",
        "\n",
        "end_time = \"00:38:04\" #@param {type:\"string\"}\n",
        "end_seconds = datetime.strptime(str(end_time), \"%H:%M:%S\") - datetime(1900, 1, 1)\n",
        "ends = str(int(end_seconds.total_seconds()))\n",
        "\n",
        "tDelta = datetime.strptime(end_time, FMT) - datetime.strptime(start_time, FMT)\n",
        "tDelta2 = str(int(tDelta.total_seconds()) - 2) # minus fade duration\n",
        "duration = datetime.strptime(str(tDelta), \"%H:%M:%S\")\n",
        "a_timedelta = duration - datetime(1900, 1, 1)\n",
        "\n",
        "os.environ['inputFile'] = lecture_file_path\n",
        "os.environ['outputFile'] = output_file_name\n",
        "os.environ['discTotalFrames'] = discTotalFrames\n",
        "\n",
        "os.environ['starts'] = starts\n",
        "os.environ['ends'] = ends\n",
        "os.environ['tDelta'] = str(int(a_timedelta.total_seconds()))\n",
        "os.environ['tDelta2'] = tDelta2\n",
        "\n",
        "loadingAn(name=\"lds\")\n",
        "textAn(\"Trimming, adding logo, adding fade-in/out, adding disclaimer...\", ty='twg')\n",
        "os.system('ffmpeg -i \"$inputFile\" -i logo.png -i disclaimer.jpg -f lavfi -t 1 -i anullsrc -filter_complex \"[2:v]fps=fps=$videoFps,loop=loop=$discTotalFrames:size=$videoFps:start=0[v2];[v2]fade=t=in:st=0:d=1,fade=t=out:st=14:d=1[vv2];[0:v]trim=start=$starts:end=$ends,setpts=PTS-STARTPTS,scale=1920:1080[v0];[0:a]atrim=start=$starts:end=$ends,asetpts=PTS-STARTPTS[a0];[v0][1:v]overlay=0:0[vv0];[vv0]fade=t=in:st=0:d=1,fade=t=outst=$tDelta2:d=1[vvv0];[a0]afade=t=in:st=0:d=1,afade=t=out:st=$tDelta2:d=1[aa0];[vv2][3:a][vvv0][aa0]concat=n=2:v=1:a=1[vv][aa]\" -map [vv] -map [aa] -c:a aac -vcodec libx264 -s 1920x1080 $outputFile')\n",
        "clear_output()\n",
        "print('Trimmed lecture, added logo, fade-in/out and disclaimer.')\n"
      ],
      "execution_count": null,
      "outputs": []
    }
  ]
}